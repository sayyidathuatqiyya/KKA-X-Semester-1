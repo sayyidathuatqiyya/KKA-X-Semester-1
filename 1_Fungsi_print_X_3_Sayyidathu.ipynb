{
  "cells": [
    {
      "cell_type": "markdown",
      "metadata": {
        "id": "view-in-github",
        "colab_type": "text"
      },
      "source": [
        "<a href=\"https://colab.research.google.com/github/sayyidathuatqiyya/KKA-X-Semester-1/blob/main/1_Fungsi_print_X_3_Sayyidathu.ipynb\" target=\"_parent\"><img src=\"https://colab.research.google.com/assets/colab-badge.svg\" alt=\"Open In Colab\"/></a>"
      ]
    },
    {
      "cell_type": "markdown",
      "metadata": {
        "id": "F0DqM4-KjanX"
      },
      "source": [
        "Nama: Sayyidathu Thifal Atqiyya\n",
        "\n",
        "Kelas:X.3\n",
        "\n",
        "No.absen:28"
      ]
    },
    {
      "cell_type": "markdown",
      "metadata": {
        "id": "mlOnENJ7mzhv"
      },
      "source": [
        "#Menampilkan Teks Bebas"
      ]
    },
    {
      "cell_type": "code",
      "execution_count": null,
      "metadata": {
        "colab": {
          "base_uri": "https://localhost:8080/"
        },
        "id": "KaLpfIy7i3Fk",
        "outputId": "cb774f87-6c7c-46a0-fb84-b5168b37968f"
      },
      "outputs": [
        {
          "name": "stdout",
          "output_type": "stream",
          "text": [
            "Sayyidathu Thifal Atqiyya\n"
          ]
        }
      ],
      "source": [
        "print(\"Sayyidathu Thifal Atqiyya\")"
      ]
    },
    {
      "cell_type": "code",
      "execution_count": null,
      "metadata": {
        "colab": {
          "base_uri": "https://localhost:8080/"
        },
        "id": "cvg1bGt2mKgz",
        "outputId": "991b570b-e0c4-4d73-df07-5f2d1017139d"
      },
      "outputs": [
        {
          "name": "stdout",
          "output_type": "stream",
          "text": [
            "Sayyidathu Thifal Atqiyya\n"
          ]
        }
      ],
      "source": [
        "print('Sayyidathu Thifal Atqiyya')"
      ]
    },
    {
      "cell_type": "markdown",
      "metadata": {
        "id": "CQEWD9JJmNae"
      },
      "source": [
        "#Menampilkan Nilai Variabel"
      ]
    },
    {
      "cell_type": "code",
      "execution_count": null,
      "metadata": {
        "id": "p18J2Q2RmfWl"
      },
      "outputs": [],
      "source": [
        "Nama = \"Sayyidathu Thifal Atqiyya \"\n",
        "usia = 14"
      ]
    },
    {
      "cell_type": "markdown",
      "metadata": {
        "id": "4IjwPFLUjOLC"
      },
      "source": [
        "# Bagian Baru"
      ]
    },
    {
      "cell_type": "code",
      "execution_count": null,
      "metadata": {
        "colab": {
          "base_uri": "https://localhost:8080/"
        },
        "id": "Al22cj1wn_xY",
        "outputId": "7a9927c5-9c14-4d4a-ec3e-20de4cfd40d1"
      },
      "outputs": [
        {
          "output_type": "stream",
          "name": "stdout",
          "text": [
            "Nama\n"
          ]
        }
      ],
      "source": [
        "print(\"Nama\")"
      ]
    },
    {
      "cell_type": "code",
      "execution_count": null,
      "metadata": {
        "colab": {
          "base_uri": "https://localhost:8080/"
        },
        "id": "0cPbhUbWoOau",
        "outputId": "f49ce707-4d52-4184-977f-48c557475112"
      },
      "outputs": [
        {
          "output_type": "stream",
          "name": "stdout",
          "text": [
            "usia\n"
          ]
        }
      ],
      "source": [
        "print(\"usia\")"
      ]
    },
    {
      "cell_type": "code",
      "source": [
        "print(Nama)"
      ],
      "metadata": {
        "colab": {
          "base_uri": "https://localhost:8080/"
        },
        "id": "8J49-zl1fwcT",
        "outputId": "54f22d66-780e-4023-ed08-7c6f88f924d1"
      },
      "execution_count": null,
      "outputs": [
        {
          "output_type": "stream",
          "name": "stdout",
          "text": [
            "Sayyidathu Thifal Atqiyya \n"
          ]
        }
      ]
    },
    {
      "cell_type": "code",
      "source": [
        "print(usia)"
      ],
      "metadata": {
        "colab": {
          "base_uri": "https://localhost:8080/"
        },
        "id": "dYaBikHHf3Ct",
        "outputId": "407d786c-d2cf-4017-fb6a-e389f900e957"
      },
      "execution_count": null,
      "outputs": [
        {
          "output_type": "stream",
          "name": "stdout",
          "text": [
            "14\n"
          ]
        }
      ]
    },
    {
      "cell_type": "code",
      "source": [
        "berat_badan = 50"
      ],
      "metadata": {
        "id": "hdHyrliof6WK"
      },
      "execution_count": null,
      "outputs": []
    },
    {
      "cell_type": "code",
      "source": [
        "print(berat_badan)"
      ],
      "metadata": {
        "colab": {
          "base_uri": "https://localhost:8080/"
        },
        "id": "t9PUr0mhgF_W",
        "outputId": "817af104-514a-4d7e-ae2c-b1c8c4440cd0"
      },
      "execution_count": null,
      "outputs": [
        {
          "output_type": "stream",
          "name": "stdout",
          "text": [
            "50\n"
          ]
        }
      ]
    },
    {
      "cell_type": "code",
      "source": [
        "nama_saudara = \"Anta Maulana Aqsal Djilham Al Falih\""
      ],
      "metadata": {
        "id": "WiqunrTagL5a"
      },
      "execution_count": null,
      "outputs": []
    },
    {
      "cell_type": "code",
      "source": [
        "print(nama_saudara)"
      ],
      "metadata": {
        "id": "sASmnoKMr3kZ",
        "outputId": "e4045321-4070-464f-b2f0-748348e0e99a",
        "colab": {
          "base_uri": "https://localhost:8080/"
        }
      },
      "execution_count": null,
      "outputs": [
        {
          "output_type": "stream",
          "name": "stdout",
          "text": [
            "Anta Maulana Aqsal Djilham Al Falih\n"
          ]
        }
      ]
    },
    {
      "cell_type": "markdown",
      "source": [
        "#Menampilkan Nilai Variabel dan Teks Bebas"
      ],
      "metadata": {
        "id": "DJjvZ7okrvIh"
      }
    },
    {
      "cell_type": "code",
      "source": [
        "print(\"Halo nama saya\",Nama,\".Usia saya\",usia,\"tahun.\")"
      ],
      "metadata": {
        "colab": {
          "base_uri": "https://localhost:8080/"
        },
        "id": "t6cYxglar4nh",
        "outputId": "73b13b8a-0664-44f9-9359-92ecdc25ea3f"
      },
      "execution_count": null,
      "outputs": [
        {
          "output_type": "stream",
          "name": "stdout",
          "text": [
            "Halo nama saya Sayyidathu Thifal Atqiyya  .Usia saya 14 tahun.\n"
          ]
        }
      ]
    },
    {
      "cell_type": "code",
      "source": [
        "print(\"Halo nama saya \"+Nama+\". Usia saya \"+str(usia)+\" tahun.\")"
      ],
      "metadata": {
        "colab": {
          "base_uri": "https://localhost:8080/"
        },
        "id": "s2WYrOKhsnei",
        "outputId": "f2f84f55-5c08-4f21-a859-85545cc020f7"
      },
      "execution_count": null,
      "outputs": [
        {
          "output_type": "stream",
          "name": "stdout",
          "text": [
            "Halo nama saya Sayyidathu Thifal Atqiyya . Usia saya 14 tahun.\n"
          ]
        }
      ]
    },
    {
      "cell_type": "code",
      "source": [
        "print(f\"Halo nama saya {Nama}. Usia saya {usia} tahun.\")"
      ],
      "metadata": {
        "colab": {
          "base_uri": "https://localhost:8080/"
        },
        "id": "7gJ9CflttH0f",
        "outputId": "20217a93-9c84-470c-d468-32878c40e6cf"
      },
      "execution_count": null,
      "outputs": [
        {
          "output_type": "stream",
          "name": "stdout",
          "text": [
            "Halo nama saya Sayyidathu Thifal Atqiyya . Usia saya 14 tahun.\n"
          ]
        }
      ]
    },
    {
      "cell_type": "code",
      "source": [
        "print(\"Nama saudara saya adalah\",nama_saudara,\".Berat badanya adalah\",berat_badan,\".\")"
      ],
      "metadata": {
        "colab": {
          "base_uri": "https://localhost:8080/"
        },
        "id": "tACb2WYrukxW",
        "outputId": "87639fa0-2ae9-44ce-8d30-5fc5e7be1f40"
      },
      "execution_count": null,
      "outputs": [
        {
          "output_type": "stream",
          "name": "stdout",
          "text": [
            "Nama saudara saya adalah Anta Maulana Aqsal Djilham Al Falih .Berat badanya adalah 50 .\n"
          ]
        }
      ]
    },
    {
      "cell_type": "code",
      "source": [
        "print(\"Nama saudara saya adalah \"+nama_saudara+\". Berat badanya adalah \"+str(berat_badan)+\".\")"
      ],
      "metadata": {
        "colab": {
          "base_uri": "https://localhost:8080/"
        },
        "id": "7CW2MHcyvP_1",
        "outputId": "6aac3441-6f37-4a03-f11c-01f49e4fc729"
      },
      "execution_count": null,
      "outputs": [
        {
          "output_type": "stream",
          "name": "stdout",
          "text": [
            "Nama saudara saya adalah Anta Maulana Aqsal Djilham Al Falih. Berat badanya adalah 50.\n"
          ]
        }
      ]
    },
    {
      "cell_type": "code",
      "source": [
        "print(f\"Nama saudara saya adalah {nama_saudara}. Berat badannya adalah {berat_badan} .\")"
      ],
      "metadata": {
        "colab": {
          "base_uri": "https://localhost:8080/"
        },
        "id": "87rP7M8cv5jY",
        "outputId": "88a98c8f-aa2d-4064-b5f9-cb05b1326a95"
      },
      "execution_count": null,
      "outputs": [
        {
          "output_type": "stream",
          "name": "stdout",
          "text": [
            "Nama saudara saya adalah Anta Maulana Aqsal Djilham Al Falih. Berat badannya adalah 50 .\n"
          ]
        }
      ]
    },
    {
      "cell_type": "markdown",
      "source": [
        "#Eschape Character"
      ],
      "metadata": {
        "id": "xGY6ONfitU4y"
      }
    },
    {
      "cell_type": "code",
      "source": [
        "print(\"Nama: Sayyidathu TA\n",
        "Kelas: X.3\n",
        "No. absen: 27\")"
      ],
      "metadata": {
        "colab": {
          "base_uri": "https://localhost:8080/",
          "height": 141
        },
        "id": "tHAkuVNwtaH1",
        "outputId": "66accebd-34cb-4c47-c2df-345979afa827"
      },
      "execution_count": null,
      "outputs": [
        {
          "output_type": "error",
          "ename": "SyntaxError",
          "evalue": "unterminated string literal (detected at line 1) (ipython-input-1169720752.py, line 1)",
          "traceback": [
            "\u001b[0;36m  File \u001b[0;32m\"/tmp/ipython-input-1169720752.py\"\u001b[0;36m, line \u001b[0;32m1\u001b[0m\n\u001b[0;31m    print(\"Nama: Sayyidathu TA\u001b[0m\n\u001b[0m          ^\u001b[0m\n\u001b[0;31mSyntaxError\u001b[0m\u001b[0;31m:\u001b[0m unterminated string literal (detected at line 1)\n"
          ]
        }
      ]
    },
    {
      "cell_type": "code",
      "source": [
        "print(\"Nama: Sayyidathu Ta\")\n",
        "print(\"Kelas: X.3\")\n",
        "print(\"No absen: 29\")"
      ],
      "metadata": {
        "colab": {
          "base_uri": "https://localhost:8080/"
        },
        "id": "Kb0rceNJusu-",
        "outputId": "fb2ba825-74f8-4891-89df-8576306b56d0"
      },
      "execution_count": null,
      "outputs": [
        {
          "output_type": "stream",
          "name": "stdout",
          "text": [
            "Nama: Sayyidathu Ta\n",
            "Kelas: X.3\n",
            "No absen: 29\n"
          ]
        }
      ]
    },
    {
      "cell_type": "code",
      "source": [
        "print(\"Nama: Sayyidathu Ta\\nKelas: X.3\\nNo absen: 29\")"
      ],
      "metadata": {
        "colab": {
          "base_uri": "https://localhost:8080/"
        },
        "id": "-Z7hB65Tt6_B",
        "outputId": "6396d2ad-a9a8-444a-fb74-48a5b1cdef21"
      },
      "execution_count": null,
      "outputs": [
        {
          "output_type": "stream",
          "name": "stdout",
          "text": [
            "Nama: Sayyidathu Ta\n",
            "Kelas: X.3\n",
            "No absen: 29\n"
          ]
        }
      ]
    },
    {
      "cell_type": "code",
      "source": [
        "print(\"\"\"Nama\\t\\t: Sayyidathu TA\n",
        "Kelas\\t\\t: X.3\n",
        "No absen\\t: 29\"\"\")"
      ],
      "metadata": {
        "colab": {
          "base_uri": "https://localhost:8080/"
        },
        "id": "WbXfTCSevLSV",
        "outputId": "93cb20e9-d1d7-4392-bb18-327144190e7e"
      },
      "execution_count": null,
      "outputs": [
        {
          "output_type": "stream",
          "name": "stdout",
          "text": [
            "Nama\t\t: Sayyidathu TA\n",
            "Kelas\t\t: X.3\n",
            "No absen\t: 29\n"
          ]
        }
      ]
    },
    {
      "cell_type": "code",
      "source": [
        "print(\"Nama: Habibie Ainun\")"
      ],
      "metadata": {
        "colab": {
          "base_uri": "https://localhost:8080/"
        },
        "id": "hArI8OtfwElO",
        "outputId": "b1bc20ef-66b9-4613-f21b-ec3b8f23f71e"
      },
      "execution_count": null,
      "outputs": [
        {
          "output_type": "stream",
          "name": "stdout",
          "text": [
            "Nama: Habibie Ainun\n"
          ]
        }
      ]
    },
    {
      "cell_type": "code",
      "source": [
        "print('Nama: Habibie Ainun')"
      ],
      "metadata": {
        "colab": {
          "base_uri": "https://localhost:8080/"
        },
        "id": "DFfx1AHawulm",
        "outputId": "85114cf6-f87f-4c75-85ff-1a9e46a2d10a"
      },
      "execution_count": null,
      "outputs": [
        {
          "output_type": "stream",
          "name": "stdout",
          "text": [
            "Nama: Habibie Ainun\n"
          ]
        }
      ]
    },
    {
      "cell_type": "code",
      "source": [
        "print('habibie A\\'inun')"
      ],
      "metadata": {
        "colab": {
          "base_uri": "https://localhost:8080/"
        },
        "id": "1qTiJKfMw4Ef",
        "outputId": "45f9f802-6f45-4c92-e78b-1f93acf49e86"
      },
      "execution_count": null,
      "outputs": [
        {
          "output_type": "stream",
          "name": "stdout",
          "text": [
            "habibie A'inun\n"
          ]
        }
      ]
    },
    {
      "cell_type": "code",
      "source": [
        "print(\"Nama: Habibie A'inun\")"
      ],
      "metadata": {
        "colab": {
          "base_uri": "https://localhost:8080/"
        },
        "id": "Ot4hUtfexI2y",
        "outputId": "f924d039-af00-4239-80a3-50b396b0c9d9"
      },
      "execution_count": null,
      "outputs": [
        {
          "output_type": "stream",
          "name": "stdout",
          "text": [
            "Nama: Habibie A'inun\n"
          ]
        }
      ]
    },
    {
      "cell_type": "code",
      "source": [
        "print(\"Bu Shinta berkata, \\\"Silahkan lihat ke layar TV.\\\".\")"
      ],
      "metadata": {
        "colab": {
          "base_uri": "https://localhost:8080/"
        },
        "id": "uSuti675xSQF",
        "outputId": "69dda08c-3de7-4aba-fa9f-0d42e3ec9063"
      },
      "execution_count": null,
      "outputs": [
        {
          "output_type": "stream",
          "name": "stdout",
          "text": [
            "Bu Shinta berkata, \"Silahkan lihat ke layar TV.\".\n"
          ]
        }
      ]
    },
    {
      "cell_type": "code",
      "source": [
        "print('Bu Shinta barkata, \"Silahkan lihat ke layar TV.\"')"
      ],
      "metadata": {
        "colab": {
          "base_uri": "https://localhost:8080/"
        },
        "id": "P3EVwAQFx6ai",
        "outputId": "97b39d39-28ad-4138-af42-faee6ccab74e"
      },
      "execution_count": null,
      "outputs": [
        {
          "output_type": "stream",
          "name": "stdout",
          "text": [
            "Bu Shinta barkata, \"Silahkan lihat ke layar TV.\"\n"
          ]
        }
      ]
    },
    {
      "cell_type": "code",
      "source": [
        "print(\"\"\"Nama file: Tugas KKA\n",
        "Lokasi file: D:\\\\MAN Demak\\\\KKA\"\"\")"
      ],
      "metadata": {
        "colab": {
          "base_uri": "https://localhost:8080/"
        },
        "id": "UNfd-VBQyOMw",
        "outputId": "b33cd097-2305-4d31-d72d-6b16f0647fd6"
      },
      "execution_count": null,
      "outputs": [
        {
          "output_type": "stream",
          "name": "stdout",
          "text": [
            "Nama file: Tugas KKA\n",
            "Lokasi file: D:\\MAN Demak\\KKA\n"
          ]
        }
      ]
    },
    {
      "cell_type": "code",
      "source": [
        "print('Nama file\\t: Ulangan Harian Ma\\'rifatullah\\nLokasi file\\t: D:\\\\Mata Kuliah\\\\Ma\\'rifatullah')"
      ],
      "metadata": {
        "colab": {
          "base_uri": "https://localhost:8080/"
        },
        "id": "16ylNxT-y_tU",
        "outputId": "7db4044a-1b9a-4263-cfcd-bdc6d0c0b152"
      },
      "execution_count": null,
      "outputs": [
        {
          "output_type": "stream",
          "name": "stdout",
          "text": [
            "Nama file\t: Ulangan Harian Ma'rifatullah\n",
            "Lokasi file\t: D:\\Mata Kuliah\\Ma'rifatullah\n"
          ]
        }
      ]
    },
    {
      "cell_type": "code",
      "source": [],
      "metadata": {
        "id": "NORB0hJ4Bjkz"
      },
      "execution_count": null,
      "outputs": []
    },
    {
      "cell_type": "code",
      "source": [],
      "metadata": {
        "id": "LOCPr-FZ0IZh"
      },
      "execution_count": null,
      "outputs": []
    }
  ],
  "metadata": {
    "colab": {
      "provenance": [],
      "authorship_tag": "ABX9TyPQtiPOuOn7m6N+fV9yQjJX",
      "include_colab_link": true
    },
    "kernelspec": {
      "display_name": "Python 3",
      "name": "python3"
    },
    "language_info": {
      "name": "python"
    }
  },
  "nbformat": 4,
  "nbformat_minor": 0
}